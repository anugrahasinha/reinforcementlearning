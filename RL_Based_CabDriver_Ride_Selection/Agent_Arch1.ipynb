{
 "cells": [
  {
   "cell_type": "markdown",
   "metadata": {
    "colab_type": "text",
    "id": "CIFsT0fCQcFD"
   },
   "source": [
    "### Cab-Driver Agent\n",
    "### Group Case Study : Reinforced Deep Learning\n",
    "#### Submitted by : \n",
    "Abhishek Ranjan\n",
    "\n",
    "Aiswarya Ramachandran\n",
    "\n",
    "Anugraha Sinha\n",
    "\n",
    "Vikash Sinha"
   ]
  },
  {
   "cell_type": "markdown",
   "metadata": {
    "colab_type": "text",
    "id": "AaTDdV6p6JW3"
   },
   "source": [
    "### Importing Libraries"
   ]
  },
  {
   "cell_type": "code",
   "execution_count": 1,
   "metadata": {
    "ExecuteTime": {
     "end_time": "2019-02-19T08:00:00.071807Z",
     "start_time": "2019-02-19T07:59:55.012808Z"
    },
    "colab": {
     "base_uri": "https://localhost:8080/",
     "height": 34
    },
    "colab_type": "code",
    "executionInfo": {
     "elapsed": 400,
     "status": "ok",
     "timestamp": 1551004235444,
     "user": {
      "displayName": "Anugraha Sinha",
      "photoUrl": "https://lh5.googleusercontent.com/-ufhz7WuOKIU/AAAAAAAAAAI/AAAAAAAAEhY/_WMVLnsy2fQ/s64/photo.jpg",
      "userId": "05693439876093633965"
     },
     "user_tz": -540
    },
    "id": "4FNfOyHUQcFH",
    "outputId": "700ba7a0-7709-445a-abf8-681bdceed37c"
   },
   "outputs": [
    {
     "name": "stderr",
     "output_type": "stream",
     "text": [
      "Using TensorFlow backend.\n"
     ]
    }
   ],
   "source": [
    "# Importing libraries\n",
    "import numpy as np\n",
    "import random\n",
    "import math\n",
    "from collections import deque\n",
    "import collections\n",
    "import pickle\n",
    "import os\n",
    "from datetime import datetime\n",
    "\n",
    "# for building DQN model\n",
    "from keras import layers\n",
    "from keras import Sequential\n",
    "from keras.layers import Dense, Activation, Flatten\n",
    "from keras.optimizers import Adam\n",
    "\n",
    "# for plotting graphs\n",
    "import matplotlib.pyplot as plt\n",
    "\n",
    "# Import the environment\n",
    "from Env import CabDriver"
   ]
  },
  {
   "cell_type": "markdown",
   "metadata": {
    "colab_type": "text",
    "id": "pRQ-vUINQcFV"
   },
   "source": [
    "#### Tracking the state-action pairs for checking convergence\n",
    "\n",
    "##### Comment Team :\n",
    "We have taken some tactical states and actions for reference. At every tracked state we check (0,0) action and other some common action, with the assumption that the driver is at the same location as the request location. \n"
   ]
  },
  {
   "cell_type": "code",
   "execution_count": 0,
   "metadata": {
    "ExecuteTime": {
     "end_time": "2019-02-19T08:00:00.095289Z",
     "start_time": "2019-02-19T08:00:00.071807Z"
    },
    "colab": {},
    "colab_type": "code",
    "id": "2a68jpCnQcFX"
   },
   "outputs": [],
   "source": [
    "def initialize_states_track():\n",
    "    states_action_pair_to_track = [((1,0,0),(1,2)),\n",
    "                                   ((1,0,0),(0,0)),\n",
    "                                   ((2,2,2),(2,3)),\n",
    "                                   ((2,2,2),(0,0)),\n",
    "                                   ((3,3,3),(3,4)),\n",
    "                                   ((3,3,3),(0,0)),\n",
    "                                   ((4,4,4),(4,5)),\n",
    "                                   ((4,4,4),(0,0)),\n",
    "                                   ((5,5,5),(5,1)),\n",
    "                                   ((5,5,5),(0,0))]\n",
    "    for state,action in states_action_pair_to_track:\n",
    "        if state not in States_Track.keys():\n",
    "            States_Track[state] = collections.defaultdict()\n",
    "            States_Track[state][action] = []\n",
    "        else:\n",
    "            States_Track[state][action] = []\n",
    "\n",
    "def update_states_track(driver):\n",
    "    for s in States_Track.keys():\n",
    "        s_encode = driver.state_encoder(s)\n",
    "        q_predict = driver.model.predict(s_encode)\n",
    "        for a in States_Track[s].keys():\n",
    "            a_idx = list(filter(lambda x : a == driver.env.action_space[x],range(0,len(driver.env.action_space))))[0]\n",
    "            q_value = q_predict[0][a_idx]\n",
    "            States_Track[s][a].append(q_value)"
   ]
  },
  {
   "cell_type": "code",
   "execution_count": 0,
   "metadata": {
    "ExecuteTime": {
     "end_time": "2019-02-19T08:00:00.403988Z",
     "start_time": "2019-02-19T08:00:00.100292Z"
    },
    "colab": {},
    "colab_type": "code",
    "id": "Ijw1MNADQcFd"
   },
   "outputs": [],
   "source": [
    "#Defining a function to save the Q-dictionary as a pickle file\n",
    "def save_obj(obj, name):\n",
    "    with open(name + '.pkl', 'wb') as f:\n",
    "        pickle.dump(obj, f, pickle.HIGHEST_PROTOCOL)"
   ]
  },
  {
   "cell_type": "markdown",
   "metadata": {
    "colab_type": "text",
    "id": "WgPoUvvTQcFi"
   },
   "source": [
    "### Agent Class\n",
    "\n",
    "If you are using this framework, you need to fill the following to complete the following code block:\n",
    "1. State and Action Size\n",
    "2. Hyperparameters\n",
    "3. Create a neural-network model in function 'build_model()'\n",
    "4. Define epsilon-greedy strategy in function 'get_action()'\n",
    "5. Complete the function 'append_sample()'. This function appends the recent experience tuple <state, action, reward, new-state> to the memory\n",
    "6. Complete the 'train_model()' function with following logic:\n",
    "   - If the memory size is greater than mini-batch size, you randomly sample experiences from memory as per the mini-batch size and do the following:\n",
    "      - Initialise your input and output batch for training the model\n",
    "      - Calculate the target Q value for each sample: reward + gamma*max(Q(s'a,))\n",
    "      - Get Q(s', a) values from the last trained model\n",
    "      - Update the input batch as your encoded state-action and output batch as your Q-values\n",
    "      - Then fit your DQN model using the updated input and output batch.\n",
    "      \n",
    "### Comment from team:\n",
    "The DQNAgent we have made has unique factor of virtualizing 2 kinds of agents, which are signified with the \"driver_psychology\" variable\n",
    "1. **Driver Psychology : Enthusiastic** : \n",
    "After getting the requests provided by environment (which is based on the location and the poisson distribution at the specific location), it checks the q_values using the network. This driver selects the \"MAX\" q_value from among the requests it has got. There requests also include (0,0) action. This enables the driver to be more \"ENTHUSIASTIC\" in taking up the rides.\n",
    "\n",
    "2. **Driver Psychology : Adamant** : After getting the requests from the environment (which is based on the location and the poisson distribution at the specific location), it checks the q_values using the network. If the action concerning \"MAX\" q_value is among the list of requests provided by the environment, then this driver takes the action. If NOT, then it defaults to (0,0) action, that is skipping it. This driver is more \"ADAMANT\" in following what the Q network says. Such a virtual driver is more adamant to what he already knows and does not want to go with what is being offered by the environment.\n",
    "\n",
    "### Q-Network Architecture for DQNAgent Class\n",
    "We will be using **ARCHITECTURE 1** where in\n",
    "- INPUT : Encoded States\n",
    "- OUPUT : Q_Values for all actions (including (0,0) action)\n",
    "\n",
    "### Hyper parameters for DQNAgent Class\n",
    "- state_size : Vector length of encoded states (INPUT SIZE) : (36 -> 5 cities + 24 hours + 7 days)\n",
    "- action_size : Vector length of q_values predicted, all actions (OUTPUT SIZE) : (21 -> (4*5) + 1  -> aka -> (m-1 * m) + 1)\n",
    "- learning_rate : Learning rate used by Q-Network\n",
    "- discount_factor : Discount factor used for next_state best action\n",
    "- epsilon_max : Maximum epsilon value\n",
    "- epsilon_min : Minimum epsilon value\n",
    "- batch_size : batch_size used by NN to execute FowardPropogation/BackwardPropogation in batches.\n",
    "- memory_length : memory deque size\n",
    "- learn_nn_epochs : EPOCHS for learning the Q_Network in 1 iteration of complete memory\n",
    "\n",
    "\n",
    "## Information for the evaluation team ##\n",
    "\n",
    "**Driver Psychology : Enthusiastic** should be taken for evaluation. The other driver psychology is for testing and experiment purpose only. We will first showcase, **ENTHUSIASTIC** driver and check how its rewards are increasing over long term. Later on we will showcase the other driver details also."
   ]
  },
  {
   "cell_type": "code",
   "execution_count": 0,
   "metadata": {
    "ExecuteTime": {
     "end_time": "2019-02-19T08:00:00.807170Z",
     "start_time": "2019-02-19T08:00:00.408992Z"
    },
    "colab": {},
    "colab_type": "code",
    "id": "qfqLkNsGQcFj"
   },
   "outputs": [],
   "source": [
    "n_exploration = 0\n",
    "n_exploitation = 0\n",
    "class DQNAgent:\n",
    "    def __init__(self, state_size, action_size, \n",
    "                 learning_rate = 0.09, \n",
    "                 discount_factor=0.95, \n",
    "                 epsilon_max=1.0,\n",
    "                 epsilon_min=0.0,\n",
    "                 batch_size = 32,\n",
    "                 memory_length = 2000,\n",
    "                 learn_nn_epochs = 1,\n",
    "                 debug_msg = False,\n",
    "                 driver_psychology=\"Adamant\"):\n",
    "        # Define size of state and action\n",
    "        self.state_size = state_size\n",
    "        self.action_size = action_size\n",
    "\n",
    "        # Write here: Specify you hyper parameters for the DQN\n",
    "        self.discount_factor = discount_factor\n",
    "        self.learning_rate =  learning_rate\n",
    "        self.epsilon_max = epsilon_max\n",
    "        self.epsilon_min = epsilon_min\n",
    "        self.batch_size = batch_size\n",
    "        self.memory_length = memory_length\n",
    "        self.learn_nn_epochs = learn_nn_epochs\n",
    "        # create replay memory using deque\n",
    "        self.memory = deque(maxlen=self.memory_length)\n",
    "        \n",
    "        # Driver's Psychology #\n",
    "        self.driver_psychology = driver_psychology\n",
    "        \n",
    "        # environment object #\n",
    "        self.env = CabDriver()\n",
    "        self.env.debug = debug_msg\n",
    "        \n",
    "        # create main model and target model\n",
    "        self.model = self.build_model()\n",
    "        \n",
    "        # encoder function #\n",
    "        self.state_encoder = self.env.state_encod_arch1    # we use ARCHITECTURE 1 type of Q_Network #\n",
    "        \n",
    "        # model saving directory #\n",
    "        self.model_dir = \"RLModel_Driver_Arch2\" + \"_LR_\" + str(self.learning_rate) + \"_dist_\" + str(self.discount_factor) +\\\n",
    "                    \"_batch_\" + str(self.batch_size) + \"_memlen_\" + str(self.memory_length)\n",
    "        \n",
    "        if not os.path.exists(self.model_dir):\n",
    "            os.mkdir(self.model_dir)\n",
    "        \n",
    "    # approximate Q function using Neural Network\n",
    "    def build_model(self):\n",
    "        model = Sequential()\n",
    "        # Input layer\n",
    "        model.add(Dense(32, input_dim=self.state_size, activation='relu', kernel_initializer='he_uniform'))\n",
    "        \n",
    "        # Hidden Layers\n",
    "        model.add(Dense(32, activation='relu', kernel_initializer='he_uniform'))\n",
    "        \n",
    "        # Output Layer\n",
    "        model.add(Dense(self.action_size, activation='relu', kernel_initializer='he_uniform'))\n",
    "        \n",
    "        model.compile(loss='mse',optimizer=Adam(lr=self.learning_rate))\n",
    "        self.env.debug_print(\"Printing MLP Model Architecture Summary\")\n",
    "        model.summary()\n",
    "        return model\n",
    "\n",
    "    def get_action(self,state,episode):\n",
    "        # Write your code here:\n",
    "        # get action from model using epsilon-greedy policy\n",
    "        # Decay in ε after we generate each sample from the environment       \n",
    "        epsilon = self.epsilon_min + (self.epsilon_max - self.epsilon_min) * np.exp(-0.0009*episode)\n",
    "        \n",
    "        random_value = np.random.random()\n",
    "        \n",
    "        self.env.debug_print(\"Episode = %d, Epsilon = %f, random_value = %f\" %(episode,epsilon,random_value))\n",
    "        \n",
    "        request_idx, requests = self.env.requests(state)\n",
    "        \n",
    "        global n_exploitation\n",
    "        global n_exploration\n",
    "        \n",
    "        if random_value > epsilon:\n",
    "            # exploitation #\n",
    "            # We use the model to predict the correct action #\n",
    "            \n",
    "            n_exploitation += 1\n",
    "            encoded_state = self.state_encoder(state)\n",
    "            predicted_q_values = self.model.predict(encoded_state)\n",
    "            \n",
    "            if self.driver_psychology == \"Enthusiastic\":\n",
    "              # We will select the q_values of the \"request_idx\" obtained above\n",
    "              # and select the maximum among them\n",
    "              # This means the driver has psychology to choose the best from what is offered\n",
    "              # Enthusiatic Driver #\n",
    "              \n",
    "              index_max_q_value = np.argmax(np.array([predicted_q_values[0][x] for x in request_idx]))\n",
    "              self.env.debug_print(\"Exploitation : request_idx = %s, requests = %s, \\npredicted_q_values = \\n%s\\n, index_max = %d -> (Enthusiatic Driver) GOT A ACTION AS PER DESIRE\"\\\n",
    "                                      %(str(request_idx),str(requests),str(predicted_q_values),index_max_q_value))\n",
    "              return requests[index_max_q_value]\n",
    "            \n",
    "            elif self.driver_psychology == \"Adamant\":\n",
    "              # The model will predict some action as the best action, however, if that action is not in the list\n",
    "              # of proposed actions, then we would choose the (0,0) action\n",
    "              index_max_q_value = np.argmax(predicted_q_values)\n",
    "              if index_max_q_value in request_idx:\n",
    "                  self.env.debug_print(\"Exploitation : request_idx = %s, requests = %s, \\npredicted_q_values = \\n%s\\n, index_max = %d -> (Admanant Driver) GOT A ACTION AS PER DESIRE\"\\\n",
    "                                      %(str(request_idx),str(requests),str(predicted_q_values),index_max_q_value))\n",
    "                  return self.env.action_space[index_max_q_value]\n",
    "              else:\n",
    "                  self.env.debug_print(\"Exploitation : request_idx = %s, requests = %s, \\npredicted_q_values = \\n%s\\n, index_max = %d -> (Admanant Driver) DID NOT GET ACTION AS PER DESIRE\"\\\n",
    "                                      %(str(request_idx),str(requests),str(predicted_q_values),index_max_q_value))\n",
    "                  return (0,0)\n",
    "            else:\n",
    "              raise(Exception(\"Unknown driver Psychology given\"))\n",
    "        else:\n",
    "            # exploration #\n",
    "            # We randomly choose one of the action from requests proposed #\n",
    "            n_exploration += 1\n",
    "            random_selected_request = random.choice(requests)\n",
    "            self.env.debug_print(\"Exploration : request_idx = %s, requests = %s, selected request/action = %s -> RANDOM SELECTION\"\\\n",
    "                                    %(str(request_idx),str(requests),str(random_selected_request)))\n",
    "            return random_selected_request\n",
    "    \n",
    "\n",
    "    def append_sample(self, state, action, reward, next_state):\n",
    "        # Write your code here:\n",
    "        # save sample <s,a,r,s'> to the replay memory\n",
    "        self.memory.append((state,action,reward,next_state))\n",
    "\n",
    "    # pick samples randomly from replay memory (with batch_size) and train the network\n",
    "    def train_model(self):\n",
    "        if len(self.memory) > self.batch_size:\n",
    "            # Sample batch from the memory\n",
    "            mini_batch = random.sample(self.memory, self.batch_size)\n",
    "            current_state_encoded_batch = np.zeros((self.batch_size, self.state_size))\n",
    "            next_state_encoded_batch = np.zeros((self.batch_size, self.state_size))\n",
    "            action_list, reward_list = [], []\n",
    "            \n",
    "            for i in range(self.batch_size):\n",
    "                state, action, reward, next_state = mini_batch[i]\n",
    "                current_state_encod = self.state_encoder(state)\n",
    "                current_state_encoded_batch[i] = current_state_encod\n",
    "                \n",
    "                next_state_encod = self.state_encoder(next_state)\n",
    "                next_state_encoded_batch[i] = next_state_encod\n",
    "                \n",
    "                action_list.append(action)\n",
    "                reward_list.append(reward)\n",
    "                \n",
    "            current_state_q_values = self.model.predict(current_state_encoded_batch)\n",
    "            next_state_q_values = self.model.predict(next_state_encoded_batch)\n",
    "            \n",
    "            for i in range(self.batch_size):\n",
    "                action_idx = list(filter(lambda x : self.env.action_space[x] == action_list[i],range(0,len(self.env.action_space))))[0]\n",
    "                current_state_q_values[i][action_idx] = reward_list[i] + (self.discount_factor * np.max(next_state_q_values))\n",
    "            \n",
    "            self.model.fit(current_state_encoded_batch,current_state_q_values,batch_size=self.batch_size,epochs=self.learn_nn_epochs,verbose=0)\n",
    "\n",
    "    def save(self):\n",
    "        f_name = self.model_dir + \"/\" + \"Q_Network_Model_\" + datetime.now().strftime(\"%Y%m%d_%H%M%S\") + \".model\"\n",
    "        self.model.save_weights(f_name)"
   ]
  },
  {
   "cell_type": "markdown",
   "metadata": {
    "colab_type": "text",
    "id": "lRQLoTjQF4Nu"
   },
   "source": [
    "#### We initialize the States_Track "
   ]
  },
  {
   "cell_type": "code",
   "execution_count": 5,
   "metadata": {
    "ExecuteTime": {
     "end_time": "2019-02-19T08:00:01.342836Z",
     "start_time": "2019-02-19T08:00:00.810154Z"
    },
    "colab": {
     "base_uri": "https://localhost:8080/",
     "height": 119
    },
    "colab_type": "code",
    "executionInfo": {
     "elapsed": 609,
     "status": "ok",
     "timestamp": 1551004248884,
     "user": {
      "displayName": "Anugraha Sinha",
      "photoUrl": "https://lh5.googleusercontent.com/-ufhz7WuOKIU/AAAAAAAAAAI/AAAAAAAAEhY/_WMVLnsy2fQ/s64/photo.jpg",
      "userId": "05693439876093633965"
     },
     "user_tz": -540
    },
    "id": "17u4KgENQcFq",
    "outputId": "9105af78-34b5-4232-a71a-e54d76418880"
   },
   "outputs": [
    {
     "data": {
      "text/plain": [
       "defaultdict(None,\n",
       "            {(1, 0, 0): defaultdict(None, {(0, 0): [], (1, 2): []}),\n",
       "             (2, 2, 2): defaultdict(None, {(0, 0): [], (2, 3): []}),\n",
       "             (3, 3, 3): defaultdict(None, {(0, 0): [], (3, 4): []}),\n",
       "             (4, 4, 4): defaultdict(None, {(0, 0): [], (4, 5): []}),\n",
       "             (5, 5, 5): defaultdict(None, {(0, 0): [], (5, 1): []})})"
      ]
     },
     "execution_count": 5,
     "metadata": {
      "tags": []
     },
     "output_type": "execute_result"
    }
   ],
   "source": [
    "States_Track = collections.defaultdict()\n",
    "initialize_states_track()\n",
    "States_Track"
   ]
  },
  {
   "cell_type": "markdown",
   "metadata": {
    "colab_type": "text",
    "id": "_jlQ0NR9HuPv"
   },
   "source": [
    "## Main execution ##\n",
    "\n",
    "**Remember** : We try Driver Psychology : Enthusiastic first."
   ]
  },
  {
   "cell_type": "markdown",
   "metadata": {
    "colab_type": "text",
    "id": "l6dDk3ZRQcFz"
   },
   "source": [
    "### DQN block"
   ]
  },
  {
   "cell_type": "code",
   "execution_count": 0,
   "metadata": {
    "ExecuteTime": {
     "end_time": "2019-02-19T08:00:14.782077Z",
     "start_time": "2019-02-19T08:00:05.103591Z"
    },
    "colab": {
     "base_uri": "https://localhost:8080/",
     "height": 1955
    },
    "colab_type": "code",
    "executionInfo": {
     "elapsed": 1155341,
     "status": "ok",
     "timestamp": 1550807330003,
     "user": {
      "displayName": "Anugraha Sinha",
      "photoUrl": "https://lh5.googleusercontent.com/-ufhz7WuOKIU/AAAAAAAAAAI/AAAAAAAAEhY/_WMVLnsy2fQ/s64/photo.jpg",
      "userId": "05693439876093633965"
     },
     "user_tz": -540
    },
    "id": "ZClK8NDQQcF1",
    "outputId": "9bb0b547-38e9-4dbc-cb67-378d901f2066"
   },
   "outputs": [
    {
     "name": "stdout",
     "output_type": "stream",
     "text": [
      "_________________________________________________________________\n",
      "Layer (type)                 Output Shape              Param #   \n",
      "=================================================================\n",
      "dense_7 (Dense)              (None, 32)                1184      \n",
      "_________________________________________________________________\n",
      "dense_8 (Dense)              (None, 32)                1056      \n",
      "_________________________________________________________________\n",
      "dense_9 (Dense)              (None, 21)                693       \n",
      "=================================================================\n",
      "Total params: 2,933\n",
      "Trainable params: 2,933\n",
      "Non-trainable params: 0\n",
      "_________________________________________________________________\n",
      "Episode : 100, Last Episode Reward = 69.000000, Avg Monthly Reward : -120.640000, Avg Episode Length : 139.930000, Avg Episode Run Time : 723.770000\n",
      "Episode : 200, Last Episode Reward = -171.000000, Avg Monthly Reward : -86.380000, Avg Episode Length : 138.710000, Avg Episode Run Time : 723.380000\n",
      "Episode : 300, Last Episode Reward = 135.000000, Avg Monthly Reward : -31.550000, Avg Episode Length : 139.300000, Avg Episode Run Time : 723.190000\n",
      "Episode : 400, Last Episode Reward = -121.000000, Avg Monthly Reward : 20.585000, Avg Episode Length : 139.072500, Avg Episode Run Time : 723.357500\n",
      "Episode : 500, Last Episode Reward = 197.000000, Avg Monthly Reward : 58.088000, Avg Episode Length : 138.542000, Avg Episode Run Time : 723.326000\n",
      "Episode : 600, Last Episode Reward = 373.000000, Avg Monthly Reward : 94.060000, Avg Episode Length : 138.471667, Avg Episode Run Time : 723.370000\n",
      "Episode : 700, Last Episode Reward = 367.000000, Avg Monthly Reward : 130.550000, Avg Episode Length : 138.335714, Avg Episode Run Time : 723.448571\n",
      "Episode : 800, Last Episode Reward = 312.000000, Avg Monthly Reward : 164.483750, Avg Episode Length : 138.071250, Avg Episode Run Time : 723.515000\n",
      "Episode : 900, Last Episode Reward = 518.000000, Avg Monthly Reward : 195.347778, Avg Episode Length : 137.747778, Avg Episode Run Time : 723.554444\n",
      "Episode : 1000, Last Episode Reward = 316.000000, Avg Monthly Reward : 228.046000, Avg Episode Length : 137.449000, Avg Episode Run Time : 723.574000\n",
      "Episode : 1100, Last Episode Reward = 593.000000, Avg Monthly Reward : 255.564545, Avg Episode Length : 137.218182, Avg Episode Run Time : 723.613636\n",
      "Episode : 1200, Last Episode Reward = 735.000000, Avg Monthly Reward : 281.845833, Avg Episode Length : 136.870000, Avg Episode Run Time : 723.608333\n",
      "Episode : 1300, Last Episode Reward = 454.000000, Avg Monthly Reward : 305.974615, Avg Episode Length : 136.586154, Avg Episode Run Time : 723.595385\n",
      "Episode : 1400, Last Episode Reward = 705.000000, Avg Monthly Reward : 330.320000, Avg Episode Length : 136.437857, Avg Episode Run Time : 723.617857\n",
      "Episode : 1500, Last Episode Reward = 300.000000, Avg Monthly Reward : 351.336000, Avg Episode Length : 136.201333, Avg Episode Run Time : 723.642000\n",
      "Episode : 1600, Last Episode Reward = 594.000000, Avg Monthly Reward : 373.048125, Avg Episode Length : 136.212500, Avg Episode Run Time : 723.603750\n",
      "Episode : 1700, Last Episode Reward = 503.000000, Avg Monthly Reward : 392.724118, Avg Episode Length : 136.062353, Avg Episode Run Time : 723.597647\n",
      "Episode : 1800, Last Episode Reward = 742.000000, Avg Monthly Reward : 410.120556, Avg Episode Length : 135.861667, Avg Episode Run Time : 723.603889\n",
      "Episode : 1900, Last Episode Reward = 1046.000000, Avg Monthly Reward : 429.157368, Avg Episode Length : 135.757895, Avg Episode Run Time : 723.610526\n",
      "Episode : 2000, Last Episode Reward = 804.000000, Avg Monthly Reward : 447.620500, Avg Episode Length : 135.730500, Avg Episode Run Time : 723.598000\n",
      "Episode : 2100, Last Episode Reward = 1024.000000, Avg Monthly Reward : 464.914762, Avg Episode Length : 135.722857, Avg Episode Run Time : 723.586190\n",
      "Episode : 2200, Last Episode Reward = 643.000000, Avg Monthly Reward : 480.726364, Avg Episode Length : 135.665909, Avg Episode Run Time : 723.576364\n",
      "Episode : 2300, Last Episode Reward = 1030.000000, Avg Monthly Reward : 498.732609, Avg Episode Length : 135.606957, Avg Episode Run Time : 723.569565\n",
      "Episode : 2400, Last Episode Reward = 774.000000, Avg Monthly Reward : 514.937083, Avg Episode Length : 135.559167, Avg Episode Run Time : 723.558333\n",
      "Episode : 2500, Last Episode Reward = 601.000000, Avg Monthly Reward : 529.218000, Avg Episode Length : 135.500000, Avg Episode Run Time : 723.549600\n",
      "Episode : 2600, Last Episode Reward = 1020.000000, Avg Monthly Reward : 543.370385, Avg Episode Length : 135.511923, Avg Episode Run Time : 723.522692\n",
      "Episode : 2700, Last Episode Reward = 1281.000000, Avg Monthly Reward : 556.618889, Avg Episode Length : 135.426667, Avg Episode Run Time : 723.522222\n",
      "Episode : 2800, Last Episode Reward = 913.000000, Avg Monthly Reward : 569.802857, Avg Episode Length : 135.364286, Avg Episode Run Time : 723.506786\n",
      "Episode : 2900, Last Episode Reward = 890.000000, Avg Monthly Reward : 581.356552, Avg Episode Length : 135.309310, Avg Episode Run Time : 723.503793\n",
      "Episode : 3000, Last Episode Reward = 948.000000, Avg Monthly Reward : 592.611333, Avg Episode Length : 135.329333, Avg Episode Run Time : 723.497333\n",
      "Episode : 3100, Last Episode Reward = 900.000000, Avg Monthly Reward : 602.758065, Avg Episode Length : 135.269355, Avg Episode Run Time : 723.497419\n",
      "Episode : 3200, Last Episode Reward = 863.000000, Avg Monthly Reward : 612.905625, Avg Episode Length : 135.210000, Avg Episode Run Time : 723.487500\n",
      "Episode : 3300, Last Episode Reward = 710.000000, Avg Monthly Reward : 623.447879, Avg Episode Length : 135.217273, Avg Episode Run Time : 723.490606\n",
      "Episode : 3400, Last Episode Reward = 1421.000000, Avg Monthly Reward : 634.225588, Avg Episode Length : 135.224706, Avg Episode Run Time : 723.492353\n",
      "Episode : 3500, Last Episode Reward = 1107.000000, Avg Monthly Reward : 642.513143, Avg Episode Length : 135.202286, Avg Episode Run Time : 723.503714\n",
      "Episode : 3600, Last Episode Reward = 737.000000, Avg Monthly Reward : 652.043333, Avg Episode Length : 135.177500, Avg Episode Run Time : 723.510833\n",
      "Episode : 3700, Last Episode Reward = 1063.000000, Avg Monthly Reward : 661.570811, Avg Episode Length : 135.212703, Avg Episode Run Time : 723.504595\n",
      "Episode : 3800, Last Episode Reward = 1525.000000, Avg Monthly Reward : 669.825789, Avg Episode Length : 135.269737, Avg Episode Run Time : 723.496579\n",
      "Episode : 3900, Last Episode Reward = 1260.000000, Avg Monthly Reward : 678.040256, Avg Episode Length : 135.307692, Avg Episode Run Time : 723.484872\n",
      "Episode : 4000, Last Episode Reward = 898.000000, Avg Monthly Reward : 685.489750, Avg Episode Length : 135.274500, Avg Episode Run Time : 723.480250\n",
      "Episode : 4100, Last Episode Reward = 729.000000, Avg Monthly Reward : 692.667073, Avg Episode Length : 135.259268, Avg Episode Run Time : 723.473415\n",
      "Episode : 4200, Last Episode Reward = 1311.000000, Avg Monthly Reward : 700.989762, Avg Episode Length : 135.279048, Avg Episode Run Time : 723.473333\n",
      "Episode : 4300, Last Episode Reward = 900.000000, Avg Monthly Reward : 708.086512, Avg Episode Length : 135.294651, Avg Episode Run Time : 723.474419\n",
      "Episode : 4400, Last Episode Reward = 1241.000000, Avg Monthly Reward : 714.454545, Avg Episode Length : 135.285455, Avg Episode Run Time : 723.467500\n",
      "Episode : 4500, Last Episode Reward = 965.000000, Avg Monthly Reward : 720.919111, Avg Episode Length : 135.292444, Avg Episode Run Time : 723.457778\n",
      "Episode : 4600, Last Episode Reward = 958.000000, Avg Monthly Reward : 726.184130, Avg Episode Length : 135.310652, Avg Episode Run Time : 723.460000\n",
      "Episode : 4700, Last Episode Reward = 1037.000000, Avg Monthly Reward : 730.510213, Avg Episode Length : 135.303404, Avg Episode Run Time : 723.453830\n",
      "Episode : 4800, Last Episode Reward = 1100.000000, Avg Monthly Reward : 735.020417, Avg Episode Length : 135.323958, Avg Episode Run Time : 723.457917\n",
      "Episode : 4900, Last Episode Reward = 1183.000000, Avg Monthly Reward : 740.512449, Avg Episode Length : 135.330204, Avg Episode Run Time : 723.442449\n",
      "Episode : 5000, Last Episode Reward = 957.000000, Avg Monthly Reward : 745.782600, Avg Episode Length : 135.372000, Avg Episode Run Time : 723.441000\n",
      "Episode : 5100, Last Episode Reward = 805.000000, Avg Monthly Reward : 751.720980, Avg Episode Length : 135.420784, Avg Episode Run Time : 723.443922\n",
      "Episode : 5200, Last Episode Reward = 1051.000000, Avg Monthly Reward : 757.000769, Avg Episode Length : 135.459615, Avg Episode Run Time : 723.445192\n",
      "Episode : 5300, Last Episode Reward = 1200.000000, Avg Monthly Reward : 762.058679, Avg Episode Length : 135.521132, Avg Episode Run Time : 723.442453\n",
      "Episode : 5400, Last Episode Reward = 807.000000, Avg Monthly Reward : 767.358519, Avg Episode Length : 135.588148, Avg Episode Run Time : 723.434630\n",
      "Episode : 5500, Last Episode Reward = 1017.000000, Avg Monthly Reward : 771.611636, Avg Episode Length : 135.614182, Avg Episode Run Time : 723.436545\n",
      "Episode : 5600, Last Episode Reward = 1262.000000, Avg Monthly Reward : 775.985714, Avg Episode Length : 135.642321, Avg Episode Run Time : 723.442321\n",
      "Episode : 5700, Last Episode Reward = 923.000000, Avg Monthly Reward : 779.502456, Avg Episode Length : 135.673158, Avg Episode Run Time : 723.439298\n",
      "Episode : 5800, Last Episode Reward = 1394.000000, Avg Monthly Reward : 783.631207, Avg Episode Length : 135.689828, Avg Episode Run Time : 723.436207\n",
      "Episode : 5900, Last Episode Reward = 1330.000000, Avg Monthly Reward : 787.928814, Avg Episode Length : 135.715763, Avg Episode Run Time : 723.431864\n",
      "Episode : 6000, Last Episode Reward = 877.000000, Avg Monthly Reward : 791.390333, Avg Episode Length : 135.743667, Avg Episode Run Time : 723.430333\n",
      "Episode : 6100, Last Episode Reward = 1354.000000, Avg Monthly Reward : 795.217705, Avg Episode Length : 135.753607, Avg Episode Run Time : 723.418852\n",
      "Episode : 6200, Last Episode Reward = 1034.000000, Avg Monthly Reward : 798.342742, Avg Episode Length : 135.764194, Avg Episode Run Time : 723.407097\n",
      "Episode : 6300, Last Episode Reward = 1009.000000, Avg Monthly Reward : 801.941429, Avg Episode Length : 135.793016, Avg Episode Run Time : 723.407143\n",
      "Episode : 6400, Last Episode Reward = 1077.000000, Avg Monthly Reward : 805.504688, Avg Episode Length : 135.816875, Avg Episode Run Time : 723.402187\n",
      "Episode : 6500, Last Episode Reward = 1165.000000, Avg Monthly Reward : 808.732462, Avg Episode Length : 135.847077, Avg Episode Run Time : 723.403231\n",
      "Episode : 6600, Last Episode Reward = 807.000000, Avg Monthly Reward : 812.035152, Avg Episode Length : 135.865455, Avg Episode Run Time : 723.395606\n",
      "Episode : 6700, Last Episode Reward = 858.000000, Avg Monthly Reward : 815.412687, Avg Episode Length : 135.895224, Avg Episode Run Time : 723.393284\n",
      "Episode : 6800, Last Episode Reward = 778.000000, Avg Monthly Reward : 818.396029, Avg Episode Length : 135.911765, Avg Episode Run Time : 723.397059\n",
      "Episode : 6900, Last Episode Reward = 1161.000000, Avg Monthly Reward : 821.860580, Avg Episode Length : 135.916667, Avg Episode Run Time : 723.391014\n",
      "Episode : 7000, Last Episode Reward = 1093.000000, Avg Monthly Reward : 824.530714, Avg Episode Length : 135.935429, Avg Episode Run Time : 723.383571\n",
      "Episode : 7100, Last Episode Reward = 733.000000, Avg Monthly Reward : 827.053944, Avg Episode Length : 135.952958, Avg Episode Run Time : 723.382817\n",
      "Episode : 7200, Last Episode Reward = 687.000000, Avg Monthly Reward : 829.516389, Avg Episode Length : 135.965278, Avg Episode Run Time : 723.374722\n",
      "Episode : 7300, Last Episode Reward = 1025.000000, Avg Monthly Reward : 832.740274, Avg Episode Length : 135.993973, Avg Episode Run Time : 723.373425\n",
      "Episode : 7400, Last Episode Reward = 1278.000000, Avg Monthly Reward : 835.954730, Avg Episode Length : 136.008243, Avg Episode Run Time : 723.372432\n",
      "Episode : 7500, Last Episode Reward = 1125.000000, Avg Monthly Reward : 838.669867, Avg Episode Length : 136.040933, Avg Episode Run Time : 723.362267\n",
      "Episode : 7600, Last Episode Reward = 1065.000000, Avg Monthly Reward : 841.348289, Avg Episode Length : 136.041053, Avg Episode Run Time : 723.369342\n",
      "Episode : 7700, Last Episode Reward = 1001.000000, Avg Monthly Reward : 844.463117, Avg Episode Length : 136.060519, Avg Episode Run Time : 723.367143\n",
      "Episode : 7800, Last Episode Reward = 594.000000, Avg Monthly Reward : 846.560513, Avg Episode Length : 136.067308, Avg Episode Run Time : 723.361667\n",
      "Episode : 7900, Last Episode Reward = 1015.000000, Avg Monthly Reward : 848.669367, Avg Episode Length : 136.088228, Avg Episode Run Time : 723.359367\n",
      "Episode : 8000, Last Episode Reward = 1164.000000, Avg Monthly Reward : 851.249625, Avg Episode Length : 136.119125, Avg Episode Run Time : 723.361875\n",
      "Episode : 8100, Last Episode Reward = 999.000000, Avg Monthly Reward : 853.504691, Avg Episode Length : 136.132469, Avg Episode Run Time : 723.360617\n",
      "Episode : 8200, Last Episode Reward = 912.000000, Avg Monthly Reward : 855.630610, Avg Episode Length : 136.145610, Avg Episode Run Time : 723.362805\n",
      "Episode : 8300, Last Episode Reward = 1136.000000, Avg Monthly Reward : 857.516506, Avg Episode Length : 136.163373, Avg Episode Run Time : 723.361928\n",
      "Episode : 8400, Last Episode Reward = 764.000000, Avg Monthly Reward : 859.616071, Avg Episode Length : 136.179286, Avg Episode Run Time : 723.363571\n",
      "Episode : 8500, Last Episode Reward = 972.000000, Avg Monthly Reward : 861.782000, Avg Episode Length : 136.204118, Avg Episode Run Time : 723.354941\n",
      "Episode : 8600, Last Episode Reward = 1028.000000, Avg Monthly Reward : 863.338372, Avg Episode Length : 136.214302, Avg Episode Run Time : 723.348256\n",
      "Episode : 8700, Last Episode Reward = 1155.000000, Avg Monthly Reward : 865.575057, Avg Episode Length : 136.234023, Avg Episode Run Time : 723.342299\n",
      "Episode : 8800, Last Episode Reward = 1254.000000, Avg Monthly Reward : 867.072955, Avg Episode Length : 136.233523, Avg Episode Run Time : 723.338864\n",
      "Episode : 8900, Last Episode Reward = 1017.000000, Avg Monthly Reward : 869.119888, Avg Episode Length : 136.246629, Avg Episode Run Time : 723.338090\n",
      "Episode : 9000, Last Episode Reward = 1146.000000, Avg Monthly Reward : 870.929111, Avg Episode Length : 136.267667, Avg Episode Run Time : 723.337778\n",
      "Episode : 9100, Last Episode Reward = 940.000000, Avg Monthly Reward : 872.412967, Avg Episode Length : 136.284835, Avg Episode Run Time : 723.336044\n",
      "Episode : 9200, Last Episode Reward = 1134.000000, Avg Monthly Reward : 874.219891, Avg Episode Length : 136.306957, Avg Episode Run Time : 723.328043\n",
      "Episode : 9300, Last Episode Reward = 1005.000000, Avg Monthly Reward : 875.896452, Avg Episode Length : 136.320968, Avg Episode Run Time : 723.328065\n",
      "Episode : 9400, Last Episode Reward = 1291.000000, Avg Monthly Reward : 877.491489, Avg Episode Length : 136.340213, Avg Episode Run Time : 723.329787\n",
      "Episode : 9500, Last Episode Reward = 1273.000000, Avg Monthly Reward : 879.331368, Avg Episode Length : 136.364632, Avg Episode Run Time : 723.328842\n",
      "Episode : 9600, Last Episode Reward = 853.000000, Avg Monthly Reward : 881.105833, Avg Episode Length : 136.390104, Avg Episode Run Time : 723.326771\n",
      "Episode : 9700, Last Episode Reward = 1086.000000, Avg Monthly Reward : 882.976907, Avg Episode Length : 136.410619, Avg Episode Run Time : 723.323711\n",
      "Episode : 9800, Last Episode Reward = 997.000000, Avg Monthly Reward : 884.453878, Avg Episode Length : 136.434184, Avg Episode Run Time : 723.321735\n",
      "Episode : 9900, Last Episode Reward = 756.000000, Avg Monthly Reward : 885.767172, Avg Episode Length : 136.442727, Avg Episode Run Time : 723.324747\n",
      "Episode : 10000, Last Episode Reward = 901.000000, Avg Monthly Reward : 886.767200, Avg Episode Length : 136.461900, Avg Episode Run Time : 723.324800\n",
      "Total Time consumption : 7969 secs\n"
     ]
    }
   ],
   "source": [
    "Episodes = 10000\n",
    "model_save_episode_trigger = 1000\n",
    "states_track_save_episode_trigger = 1000\n",
    "status_print_episode_trigger = 100\n",
    "\n",
    "driver1 = DQNAgent(state_size=36,\n",
    "                   action_size=21,\n",
    "                   learning_rate=0.01,\n",
    "                   discount_factor=0.85,\n",
    "                   epsilon_max=1.0,\n",
    "                   epsilon_min=0.0,\n",
    "                   batch_size=32,\n",
    "                   memory_length=2000,\n",
    "                   learn_nn_epochs=3,\n",
    "                   debug_msg = False,\n",
    "                   driver_psychology = \"Enthusiastic\") ### Enthusiastic Driver ###\n",
    "\n",
    "month_end_cost_time = 30 * 24\n",
    "\n",
    "all_episode_rewards = []\n",
    "all_episode_length = []\n",
    "all_episode_run_time = []\n",
    "start_time = datetime.now()\n",
    "\n",
    "for episode in range(Episodes):\n",
    "    \n",
    "    # 1. Pick epsilon-greedy action from possible actions for the current state\n",
    "    # 2. Evaluate your reward and next state\n",
    "    # 3. Append the experience to the memory\n",
    "    # 4. Train the model by calling function agent.train_model\n",
    "    # 5. Keep a track of rewards, Q-values, loss\n",
    "    \n",
    "    current_state = driver1.env.init_get_state()\n",
    "    month_end_terminal = False    \n",
    "    total_run_time = 0\n",
    "    total_reward = 0\n",
    "    episode_length = 0\n",
    "    while not month_end_terminal:\n",
    "        #print(\"TESTING : Current State = %s\" %(str(current_state)))\n",
    "        current_action = driver1.get_action(current_state,episode)\n",
    "        next_state, reward, cost_time = driver1.env.step(current_state,current_action)\n",
    "        \n",
    "        total_run_time += cost_time\n",
    "        total_reward += reward\n",
    "        \n",
    "        if total_run_time >= month_end_cost_time:\n",
    "            month_end_terminal = True\n",
    "        \n",
    "        driver1.append_sample(current_state,current_action,reward,next_state)\n",
    "        driver1.train_model()\n",
    "        \n",
    "        current_state = next_state\n",
    "        episode_length += 1\n",
    "    \n",
    "    all_episode_length.append(episode_length)\n",
    "    all_episode_rewards.append(total_reward)\n",
    "    all_episode_run_time.append(total_run_time)\n",
    "    update_states_track(driver1)\n",
    "    \n",
    "    if (episode + 1) % model_save_episode_trigger == 0:\n",
    "        driver1.save()\n",
    "        \n",
    "    if (episode + 1) % states_track_save_episode_trigger == 0:\n",
    "        save_obj(States_Track,driver1.model_dir + \"/\" + \"States_Track_\" + datetime.now().strftime(\"%Y%m%d_%H%M%S\") + \".pickle\")\n",
    "        \n",
    "    if (episode + 1) % status_print_episode_trigger == 0:\n",
    "        print(\"Episode : %d, Last Episode Reward = %f, Avg Monthly Reward : %f, Avg Episode Length : %f, Avg Episode Run Time : %f\" %(episode+1,total_reward,np.mean(all_episode_rewards),np.mean(all_episode_length),np.mean(all_episode_run_time)))\n",
    "\n",
    "end_time = datetime.now()\n",
    "print(\"Total Time consumption : %d secs\" %((end_time-start_time).seconds))"
   ]
  },
  {
   "cell_type": "markdown",
   "metadata": {
    "colab_type": "text",
    "id": "5fe-VC6fGF9X"
   },
   "source": [
    "#### Conclusion from above results ####\n",
    "Avg Monthly Reward was increasing which proves that **Enthusiastic** driver can maximize **LONG TERM MONTHLY REWARDS** if it follows the recommendation provided by the model from among the **poisson** distributed requests that come to the driver.\n",
    "\n"
   ]
  },
  {
   "cell_type": "code",
   "execution_count": 0,
   "metadata": {
    "ExecuteTime": {
     "end_time": "2019-02-19T07:23:16.024564Z",
     "start_time": "2019-02-19T07:23:15.853383Z"
    },
    "colab": {
     "base_uri": "https://localhost:8080/",
     "height": 51
    },
    "colab_type": "code",
    "executionInfo": {
     "elapsed": 721,
     "status": "ok",
     "timestamp": 1550807867383,
     "user": {
      "displayName": "Anugraha Sinha",
      "photoUrl": "https://lh5.googleusercontent.com/-ufhz7WuOKIU/AAAAAAAAAAI/AAAAAAAAEhY/_WMVLnsy2fQ/s64/photo.jpg",
      "userId": "05693439876093633965"
     },
     "user_tz": -540
    },
    "id": "-qICHQ87QcGD",
    "outputId": "1a2d2f8b-a294-455e-c05f-4b2d161c8412"
   },
   "outputs": [
    {
     "name": "stdout",
     "output_type": "stream",
     "text": [
      "Number of exploitations :  1225090 \n",
      "Number of explorations :  206050\n"
     ]
    }
   ],
   "source": [
    "print(\"Number of exploitations : \",n_exploitation,\"\\nNumber of explorations : \",n_exploration)"
   ]
  },
  {
   "cell_type": "markdown",
   "metadata": {
    "colab_type": "text",
    "id": "sgDxSmdpGY1b"
   },
   "source": [
    "### Visualizing the average monthly reward (averaged after every 100 episodes) ###"
   ]
  },
  {
   "cell_type": "code",
   "execution_count": 0,
   "metadata": {
    "colab": {
     "base_uri": "https://localhost:8080/",
     "height": 349
    },
    "colab_type": "code",
    "executionInfo": {
     "elapsed": 1130,
     "status": "ok",
     "timestamp": 1550807874003,
     "user": {
      "displayName": "Anugraha Sinha",
      "photoUrl": "https://lh5.googleusercontent.com/-ufhz7WuOKIU/AAAAAAAAAAI/AAAAAAAAEhY/_WMVLnsy2fQ/s64/photo.jpg",
      "userId": "05693439876093633965"
     },
     "user_tz": -540
    },
    "id": "MSTWDxX6pEy1",
    "outputId": "7c1a49b8-cecf-4b26-f624-6bd8673ffc2c"
   },
   "outputs": [
    {
     "data": {
      "image/png": "[encoded data removed]",
      "text/plain": [
       "<Figure size 1440x360 with 1 Axes>"
      ]
     },
     "metadata": {
      "tags": []
     },
     "output_type": "display_data"
    }
   ],
   "source": [
    "avg_as_model_learnt = [np.mean(all_episode_rewards[0:x+99]) for x in range(0,10000,100)]\n",
    "plt.figure(figsize=(20,5))\n",
    "plt.plot(range(0,len(avg_as_model_learnt)),avg_as_model_learnt)\n",
    "plt.xlabel(\"Number of hunderd(s) episodes (x 100)\")\n",
    "plt.ylabel(\"Average Reward after episodes\")\n",
    "plt.title(\"Reinforced learning Cab Driver (Enthusiastic) - Reward Graph as NN model learns\")\n",
    "plt.xticks(range(0,100,5))\n",
    "plt.show()"
   ]
  },
  {
   "cell_type": "markdown",
   "metadata": {
    "colab_type": "text",
    "id": "naeSJ4fdGmBc"
   },
   "source": [
    "### Conclusion ###\n",
    "We can see that the rewards are increasing, and as mentioned above **LONG TERM MONTHLY REWARDS** have increased to a quite an optimal value "
   ]
  },
  {
   "cell_type": "code",
   "execution_count": 0,
   "metadata": {
    "colab": {},
    "colab_type": "code",
    "id": "O_8QeYWUtxfs"
   },
   "outputs": [],
   "source": [
    "save_obj(all_episode_rewards,driver1.model_dir + \"/\" + \"all_episode_reward.pickle\")\n",
    "save_obj(all_episode_length,driver1.model_dir + \"/\" + \"all_episode_length.pickle\")\n",
    "save_obj(all_episode_run_time,driver1.model_dir + \"/\" + \"all_episode_run_time.pickle\")"
   ]
  },
  {
   "cell_type": "markdown",
   "metadata": {
    "colab_type": "text",
    "id": "k4oeJsHr4gqY"
   },
   "source": [
    "### Tracking Convergence\n",
    "Lets check which state-action pairs we can plot"
   ]
  },
  {
   "cell_type": "code",
   "execution_count": 0,
   "metadata": {
    "colab": {
     "base_uri": "https://localhost:8080/",
     "height": 204
    },
    "colab_type": "code",
    "executionInfo": {
     "elapsed": 591,
     "status": "ok",
     "timestamp": 1550807911412,
     "user": {
      "displayName": "Anugraha Sinha",
      "photoUrl": "https://lh5.googleusercontent.com/-ufhz7WuOKIU/AAAAAAAAAAI/AAAAAAAAEhY/_WMVLnsy2fQ/s64/photo.jpg",
      "userId": "05693439876093633965"
     },
     "user_tz": -540
    },
    "id": "Q2lT5Pb2um6t",
    "outputId": "540b11fc-7e80-465d-9916-b550373e73f1"
   },
   "outputs": [
    {
     "name": "stdout",
     "output_type": "stream",
     "text": [
      "State Action Pairs which can be seen for convergence:\n",
      "(1, 0, 0) (1, 2) Number of non 0.0 values :  0\n",
      "(1, 0, 0) (0, 0) Number of non 0.0 values :  486\n",
      "(2, 2, 2) (2, 3) Number of non 0.0 values :  483\n",
      "(2, 2, 2) (0, 0) Number of non 0.0 values :  486\n",
      "(3, 3, 3) (3, 4) Number of non 0.0 values :  485\n",
      "(3, 3, 3) (0, 0) Number of non 0.0 values :  486\n",
      "(4, 4, 4) (4, 5) Number of non 0.0 values :  10483\n",
      "(4, 4, 4) (0, 0) Number of non 0.0 values :  486\n",
      "(5, 5, 5) (5, 1) Number of non 0.0 values :  484\n",
      "(5, 5, 5) (0, 0) Number of non 0.0 values :  486\n"
     ]
    }
   ],
   "source": [
    "print(\"State Action Pairs which can be seen for convergence:\")\n",
    "for s_key in States_Track.keys():\n",
    "  for a_key in States_Track[s_key].keys():\n",
    "    print(s_key,a_key,\"Number of non 0.0 values : \",len(np.where(np.array(States_Track[s_key][a_key]) != 0.0)[0]))"
   ]
  },
  {
   "cell_type": "markdown",
   "metadata": {
    "colab_type": "text",
    "id": "-wd6rmMqHESU"
   },
   "source": [
    "#### Plotting the state-actions where data is available ####"
   ]
  },
  {
   "cell_type": "code",
   "execution_count": 0,
   "metadata": {
    "colab": {
     "base_uri": "https://localhost:8080/",
     "height": 620
    },
    "colab_type": "code",
    "executionInfo": {
     "elapsed": 1829,
     "status": "ok",
     "timestamp": 1550807924442,
     "user": {
      "displayName": "Anugraha Sinha",
      "photoUrl": "https://lh5.googleusercontent.com/-ufhz7WuOKIU/AAAAAAAAAAI/AAAAAAAAEhY/_WMVLnsy2fQ/s64/photo.jpg",
      "userId": "05693439876093633965"
     },
     "user_tz": -540
    },
    "id": "cUreba_x1zAU",
    "outputId": "79560352-3dcc-44e1-d0a1-911883c37038"
   },
   "outputs": [
    {
     "data": {
      "image/png": "[encoded data removed]",
      "text/plain": [
       "<Figure size 1440x720 with 5 Axes>"
      ]
     },
     "metadata": {
      "tags": []
     },
     "output_type": "display_data"
    }
   ],
   "source": [
    "plt_d = [((1,0,0),(1,2)),((2,2,2),(2,3)),((3,3,3),(3,4)),((4,4,4),(4,5)),((5,5,5),(5,1))]\n",
    "\n",
    "plt.figure(figsize=(20,10))\n",
    "\n",
    "plt.subplot(231)\n",
    "d = States_Track[plt_d[0][0]][plt_d[0][1]]\n",
    "plt.plot(range(0,len(d)),d)\n",
    "plt.xlabel(\"Iterations\")\n",
    "plt.ylabel(\"Q Value\")\n",
    "plt.title(\"State : \" + str(plt_d[0][0]) + \" & Action : \" + str(plt_d[0][1]))\n",
    "plt.legend(\"Q_value\")\n",
    "\n",
    "plt.subplot(232)\n",
    "d = States_Track[plt_d[1][0]][plt_d[1][1]]\n",
    "plt.plot(range(0,len(d)),d)\n",
    "plt.xlabel(\"Iterations\")\n",
    "plt.ylabel(\"Q Value\")\n",
    "plt.title(\"State : \" + str(plt_d[1][0]) + \" & Action : \" + str(plt_d[1][1]))\n",
    "plt.legend(\"Q_value\")\n",
    "\n",
    "plt.subplot(233)\n",
    "d = States_Track[plt_d[2][0]][plt_d[2][1]]\n",
    "plt.plot(range(0,len(d)),d)\n",
    "plt.xlabel(\"Iterations\")\n",
    "plt.ylabel(\"Q Value\")\n",
    "plt.title(\"State : \" + str(plt_d[2][0]) + \" & Action : \" + str(plt_d[2][1]))\n",
    "plt.legend(\"Q_value\")\n",
    "\n",
    "plt.subplot(234)\n",
    "d = States_Track[plt_d[3][0]][plt_d[3][1]]\n",
    "plt.plot(range(0,len(d)),d)\n",
    "plt.xlabel(\"Iterations\")\n",
    "plt.ylabel(\"Q Value\")\n",
    "plt.title(\"State : \" + str(plt_d[3][0]) + \" & Action : \" + str(plt_d[3][1]))\n",
    "plt.legend(\"Q_value\")\n",
    "\n",
    "plt.subplot(235)\n",
    "d = States_Track[plt_d[4][0]][plt_d[4][1]]\n",
    "plt.plot(range(0,len(d)),d)\n",
    "plt.xlabel(\"Iterations\")\n",
    "plt.ylabel(\"Q Value\")\n",
    "plt.title(\"State : \" + str(plt_d[4][0]) + \" & Action : \" + str(plt_d[4][1]))\n",
    "plt.legend(\"Q_value\")\n",
    "\n",
    "plt.subplots_adjust(hspace=0.6)\n",
    "plt.show()"
   ]
  },
  {
   "cell_type": "markdown",
   "metadata": {
    "colab_type": "text",
    "id": "SfNtwGtcHJB2"
   },
   "source": [
    "### Conclusion : Driver Psychology : Enthusiastic ###\n",
    "Average monthly reward have increased to fairly good value. Also we can see that Q_values for selected <state - action> pairs have converged.\n",
    "\n",
    "**Further Work**\n",
    "\n",
    "We can change the Q-Network architecture / Learning Rate / Discount Factor to try to increase the average monthly rewards.\n",
    "\n",
    "**We have performed some experiments for this, details are mentioned below.**"
   ]
  },
  {
   "cell_type": "markdown",
   "metadata": {
    "colab_type": "text",
    "id": "X6XFcvNar0PT"
   },
   "source": [
    "### INFORMATION FOR EVALUATION TEAM ###\n",
    "\n",
    "### Please look for final CONCLUSION of the case study at the end of this python notebook"
   ]
  },
  {
   "cell_type": "markdown",
   "metadata": {
    "colab_type": "text",
    "id": "rYqAV1cTIWwX"
   },
   "source": [
    "## Extra Experiment ##\n",
    "### Main Execution ###\n",
    "We now experiment with **Driver Psychology : ADAMANT**. We use all model values same as the previous, just the change in driver psychology\n",
    "\n",
    "Note :\n",
    "\n",
    "Refer above for understanding on Driver Psychology"
   ]
  },
  {
   "cell_type": "code",
   "execution_count": 0,
   "metadata": {
    "colab": {},
    "colab_type": "code",
    "id": "qEwA7BnaJ-MC"
   },
   "outputs": [],
   "source": [
    "n_exploration = 0\n",
    "n_exploitation = 0\n",
    "\n",
    "States_Track = collections.defaultdict()\n",
    "initialize_states_track()\n",
    "States_Track\n",
    "\n",
    "new_model_dir = \"RL_Model_Adamant_Driver_exec_1\"\n",
    "if not os.path.exists(\"./\"+new_model_dir):\n",
    "  os.mkdir(\"./\"+new_model_dir)"
   ]
  },
  {
   "cell_type": "code",
   "execution_count": 0,
   "metadata": {
    "colab": {
     "base_uri": "https://localhost:8080/",
     "height": 1975
    },
    "colab_type": "code",
    "executionInfo": {
     "elapsed": 33437654,
     "status": "ok",
     "timestamp": 1550967451540,
     "user": {
      "displayName": "Anugraha Sinha",
      "photoUrl": "https://lh5.googleusercontent.com/-ufhz7WuOKIU/AAAAAAAAAAI/AAAAAAAAEhY/_WMVLnsy2fQ/s64/photo.jpg",
      "userId": "05693439876093633965"
     },
     "user_tz": -540
    },
    "id": "7g5yzintIvbn",
    "outputId": "37608c64-d2e2-4fb4-ce25-119a8fd96a52"
   },
   "outputs": [
    {
     "name": "stdout",
     "output_type": "stream",
     "text": [
      "_________________________________________________________________\n",
      "Layer (type)                 Output Shape              Param #   \n",
      "=================================================================\n",
      "dense_4 (Dense)              (None, 32)                1184      \n",
      "_________________________________________________________________\n",
      "dense_5 (Dense)              (None, 32)                1056      \n",
      "_________________________________________________________________\n",
      "dense_6 (Dense)              (None, 21)                693       \n",
      "=================================================================\n",
      "Total params: 2,933\n",
      "Trainable params: 2,933\n",
      "Non-trainable params: 0\n",
      "_________________________________________________________________\n",
      "Episode : 100, Last Episode Reward = -45.000000, Avg Monthly Reward : -167.020000, Avg Episode Length : 141.870000, Avg Episode Run Time : 723.650000\n",
      "Episode : 200, Last Episode Reward = 99.000000, Avg Monthly Reward : -144.960000, Avg Episode Length : 144.880000, Avg Episode Run Time : 723.720000\n",
      "Episode : 300, Last Episode Reward = -70.000000, Avg Monthly Reward : -125.196667, Avg Episode Length : 147.310000, Avg Episode Run Time : 723.613333\n",
      "Episode : 400, Last Episode Reward = 265.000000, Avg Monthly Reward : -97.652500, Avg Episode Length : 149.620000, Avg Episode Run Time : 723.650000\n",
      "Episode : 500, Last Episode Reward = -27.000000, Avg Monthly Reward : -76.266000, Avg Episode Length : 152.046000, Avg Episode Run Time : 723.762000\n",
      "Episode : 600, Last Episode Reward = 178.000000, Avg Monthly Reward : -54.736667, Avg Episode Length : 155.100000, Avg Episode Run Time : 723.693333\n",
      "Episode : 700, Last Episode Reward = 361.000000, Avg Monthly Reward : -33.938571, Avg Episode Length : 157.884286, Avg Episode Run Time : 723.578571\n",
      "Episode : 800, Last Episode Reward = 135.000000, Avg Monthly Reward : -11.706250, Avg Episode Length : 160.737500, Avg Episode Run Time : 723.545000\n",
      "Episode : 900, Last Episode Reward = 342.000000, Avg Monthly Reward : 1.102222, Avg Episode Length : 163.571111, Avg Episode Run Time : 723.495556\n",
      "Episode : 1000, Last Episode Reward = 95.000000, Avg Monthly Reward : 17.018000, Avg Episode Length : 165.933000, Avg Episode Run Time : 723.521000\n",
      "Episode : 1100, Last Episode Reward = 583.000000, Avg Monthly Reward : 30.800909, Avg Episode Length : 168.263636, Avg Episode Run Time : 723.517273\n",
      "Episode : 1200, Last Episode Reward = 304.000000, Avg Monthly Reward : 45.188333, Avg Episode Length : 170.809167, Avg Episode Run Time : 723.523333\n",
      "Episode : 1300, Last Episode Reward = 201.000000, Avg Monthly Reward : 56.188462, Avg Episode Length : 173.499231, Avg Episode Run Time : 723.515385\n",
      "Episode : 1400, Last Episode Reward = 182.000000, Avg Monthly Reward : 67.630000, Avg Episode Length : 175.732857, Avg Episode Run Time : 723.487857\n",
      "Episode : 1500, Last Episode Reward = 45.000000, Avg Monthly Reward : 80.262000, Avg Episode Length : 177.954667, Avg Episode Run Time : 723.468000\n",
      "Episode : 1600, Last Episode Reward = 543.000000, Avg Monthly Reward : 89.252500, Avg Episode Length : 180.174375, Avg Episode Run Time : 723.435625\n",
      "Episode : 1700, Last Episode Reward = 227.000000, Avg Monthly Reward : 99.284118, Avg Episode Length : 182.270588, Avg Episode Run Time : 723.439412\n",
      "Episode : 1800, Last Episode Reward = 445.000000, Avg Monthly Reward : 114.675556, Avg Episode Length : 184.273333, Avg Episode Run Time : 723.418889\n",
      "Episode : 1900, Last Episode Reward = 250.000000, Avg Monthly Reward : 125.424737, Avg Episode Length : 186.284737, Avg Episode Run Time : 723.400526\n",
      "Episode : 2000, Last Episode Reward = 430.000000, Avg Monthly Reward : 134.231500, Avg Episode Length : 188.168500, Avg Episode Run Time : 723.386500\n",
      "Episode : 2100, Last Episode Reward = 279.000000, Avg Monthly Reward : 138.547143, Avg Episode Length : 189.955238, Avg Episode Run Time : 723.371429\n",
      "Episode : 2200, Last Episode Reward = 447.000000, Avg Monthly Reward : 142.852727, Avg Episode Length : 191.644545, Avg Episode Run Time : 723.366364\n",
      "Episode : 2300, Last Episode Reward = 265.000000, Avg Monthly Reward : 152.870435, Avg Episode Length : 193.586957, Avg Episode Run Time : 723.350435\n",
      "Episode : 2400, Last Episode Reward = 13.000000, Avg Monthly Reward : 162.746250, Avg Episode Length : 195.348333, Avg Episode Run Time : 723.322500\n",
      "Episode : 2500, Last Episode Reward = 714.000000, Avg Monthly Reward : 171.326400, Avg Episode Length : 197.146400, Avg Episode Run Time : 723.310800\n",
      "Episode : 2600, Last Episode Reward = 477.000000, Avg Monthly Reward : 180.452692, Avg Episode Length : 198.725385, Avg Episode Run Time : 723.290000\n",
      "Episode : 2700, Last Episode Reward = 330.000000, Avg Monthly Reward : 191.784815, Avg Episode Length : 200.241481, Avg Episode Run Time : 723.260370\n",
      "Episode : 2800, Last Episode Reward = 251.000000, Avg Monthly Reward : 201.490714, Avg Episode Length : 201.735357, Avg Episode Run Time : 723.262500\n",
      "Episode : 2900, Last Episode Reward = 651.000000, Avg Monthly Reward : 209.941034, Avg Episode Length : 203.293103, Avg Episode Run Time : 723.245172\n",
      "Episode : 3000, Last Episode Reward = 242.000000, Avg Monthly Reward : 218.896000, Avg Episode Length : 204.753667, Avg Episode Run Time : 723.232000\n",
      "Episode : 3100, Last Episode Reward = 550.000000, Avg Monthly Reward : 227.551935, Avg Episode Length : 206.125161, Avg Episode Run Time : 723.219677\n",
      "Episode : 3200, Last Episode Reward = -154.000000, Avg Monthly Reward : 234.538750, Avg Episode Length : 207.606562, Avg Episode Run Time : 723.214375\n",
      "Episode : 3300, Last Episode Reward = 810.000000, Avg Monthly Reward : 244.137273, Avg Episode Length : 208.761818, Avg Episode Run Time : 723.193636\n",
      "Episode : 3400, Last Episode Reward = 99.000000, Avg Monthly Reward : 254.356765, Avg Episode Length : 210.031765, Avg Episode Run Time : 723.182647\n",
      "Episode : 3500, Last Episode Reward = 103.000000, Avg Monthly Reward : 260.667429, Avg Episode Length : 211.331143, Avg Episode Run Time : 723.172286\n",
      "Episode : 3600, Last Episode Reward = 81.000000, Avg Monthly Reward : 262.033889, Avg Episode Length : 212.770278, Avg Episode Run Time : 723.179722\n",
      "Episode : 3700, Last Episode Reward = 819.000000, Avg Monthly Reward : 268.302162, Avg Episode Length : 213.952973, Avg Episode Run Time : 723.162162\n",
      "Episode : 3800, Last Episode Reward = 378.000000, Avg Monthly Reward : 275.972632, Avg Episode Length : 215.011053, Avg Episode Run Time : 723.151053\n",
      "Episode : 3900, Last Episode Reward = 64.000000, Avg Monthly Reward : 284.476154, Avg Episode Length : 215.977436, Avg Episode Run Time : 723.150000\n",
      "Episode : 4000, Last Episode Reward = 246.000000, Avg Monthly Reward : 293.389000, Avg Episode Length : 216.797500, Avg Episode Run Time : 723.138250\n",
      "Episode : 4100, Last Episode Reward = 562.000000, Avg Monthly Reward : 304.623902, Avg Episode Length : 217.544390, Avg Episode Run Time : 723.127561\n",
      "Episode : 4200, Last Episode Reward = 727.000000, Avg Monthly Reward : 317.114286, Avg Episode Length : 218.261905, Avg Episode Run Time : 723.121429\n",
      "Episode : 4300, Last Episode Reward = 846.000000, Avg Monthly Reward : 324.500233, Avg Episode Length : 219.147209, Avg Episode Run Time : 723.108140\n",
      "Episode : 4400, Last Episode Reward = 828.000000, Avg Monthly Reward : 330.849773, Avg Episode Length : 219.984091, Avg Episode Run Time : 723.089545\n",
      "Episode : 4500, Last Episode Reward = 710.000000, Avg Monthly Reward : 339.155556, Avg Episode Length : 220.717333, Avg Episode Run Time : 723.076889\n",
      "Episode : 4600, Last Episode Reward = 387.000000, Avg Monthly Reward : 345.740652, Avg Episode Length : 221.342826, Avg Episode Run Time : 723.072174\n",
      "Episode : 4700, Last Episode Reward = 684.000000, Avg Monthly Reward : 353.889787, Avg Episode Length : 222.071702, Avg Episode Run Time : 723.071064\n",
      "Episode : 4800, Last Episode Reward = 806.000000, Avg Monthly Reward : 361.888542, Avg Episode Length : 222.695833, Avg Episode Run Time : 723.064792\n",
      "Episode : 4900, Last Episode Reward = 1011.000000, Avg Monthly Reward : 368.401020, Avg Episode Length : 223.450204, Avg Episode Run Time : 723.054898\n",
      "Episode : 5000, Last Episode Reward = 875.000000, Avg Monthly Reward : 372.957000, Avg Episode Length : 224.055200, Avg Episode Run Time : 723.058800\n",
      "Episode : 5100, Last Episode Reward = 605.000000, Avg Monthly Reward : 376.114510, Avg Episode Length : 224.718235, Avg Episode Run Time : 723.050980\n",
      "Episode : 5200, Last Episode Reward = 621.000000, Avg Monthly Reward : 380.777885, Avg Episode Length : 225.350000, Avg Episode Run Time : 723.046154\n",
      "Episode : 5300, Last Episode Reward = 945.000000, Avg Monthly Reward : 384.770000, Avg Episode Length : 226.008113, Avg Episode Run Time : 723.040377\n",
      "Episode : 5400, Last Episode Reward = 540.000000, Avg Monthly Reward : 389.209444, Avg Episode Length : 226.432593, Avg Episode Run Time : 723.042778\n",
      "Episode : 5500, Last Episode Reward = 585.000000, Avg Monthly Reward : 392.528364, Avg Episode Length : 226.999091, Avg Episode Run Time : 723.045455\n",
      "Episode : 5600, Last Episode Reward = 940.000000, Avg Monthly Reward : 398.474643, Avg Episode Length : 227.638571, Avg Episode Run Time : 723.041429\n",
      "Episode : 5700, Last Episode Reward = 981.000000, Avg Monthly Reward : 406.355789, Avg Episode Length : 228.401053, Avg Episode Run Time : 723.035789\n",
      "Episode : 5800, Last Episode Reward = 986.000000, Avg Monthly Reward : 411.712069, Avg Episode Length : 229.330862, Avg Episode Run Time : 723.024138\n",
      "Episode : 5900, Last Episode Reward = 870.000000, Avg Monthly Reward : 413.667288, Avg Episode Length : 230.494576, Avg Episode Run Time : 723.016102\n",
      "Episode : 6000, Last Episode Reward = -194.000000, Avg Monthly Reward : 411.262333, Avg Episode Length : 231.886000, Avg Episode Run Time : 723.013833\n",
      "Episode : 6100, Last Episode Reward = 87.000000, Avg Monthly Reward : 406.307049, Avg Episode Length : 233.359508, Avg Episode Run Time : 722.998361\n",
      "Episode : 6200, Last Episode Reward = 189.000000, Avg Monthly Reward : 403.705645, Avg Episode Length : 234.563226, Avg Episode Run Time : 722.995161\n",
      "Episode : 6300, Last Episode Reward = 788.000000, Avg Monthly Reward : 406.225556, Avg Episode Length : 235.079048, Avg Episode Run Time : 722.987460\n",
      "Episode : 6400, Last Episode Reward = 621.000000, Avg Monthly Reward : 405.330000, Avg Episode Length : 235.795781, Avg Episode Run Time : 722.989219\n",
      "Episode : 6500, Last Episode Reward = 531.000000, Avg Monthly Reward : 404.324769, Avg Episode Length : 236.443692, Avg Episode Run Time : 722.981538\n",
      "Episode : 6600, Last Episode Reward = 1172.000000, Avg Monthly Reward : 404.417424, Avg Episode Length : 237.100000, Avg Episode Run Time : 722.973333\n",
      "Episode : 6700, Last Episode Reward = -1377.000000, Avg Monthly Reward : 403.572537, Avg Episode Length : 237.826567, Avg Episode Run Time : 722.965075\n",
      "Episode : 6800, Last Episode Reward = 724.000000, Avg Monthly Reward : 401.688088, Avg Episode Length : 238.646471, Avg Episode Run Time : 722.961618\n",
      "Episode : 6900, Last Episode Reward = 360.000000, Avg Monthly Reward : 398.309565, Avg Episode Length : 239.457101, Avg Episode Run Time : 722.964348\n",
      "Episode : 7000, Last Episode Reward = 126.000000, Avg Monthly Reward : 394.300000, Avg Episode Length : 240.380000, Avg Episode Run Time : 722.968000\n",
      "Episode : 7100, Last Episode Reward = 288.000000, Avg Monthly Reward : 392.622535, Avg Episode Length : 240.931972, Avg Episode Run Time : 722.968592\n",
      "Episode : 7200, Last Episode Reward = 216.000000, Avg Monthly Reward : 389.870139, Avg Episode Length : 241.641806, Avg Episode Run Time : 722.968472\n",
      "Episode : 7300, Last Episode Reward = 802.000000, Avg Monthly Reward : 380.103288, Avg Episode Length : 243.079315, Avg Episode Run Time : 722.958904\n",
      "Episode : 7400, Last Episode Reward = 895.000000, Avg Monthly Reward : 385.003919, Avg Episode Length : 243.552162, Avg Episode Run Time : 722.959595\n",
      "Episode : 7500, Last Episode Reward = 862.000000, Avg Monthly Reward : 392.602000, Avg Episode Length : 243.819467, Avg Episode Run Time : 722.957200\n",
      "Episode : 7600, Last Episode Reward = 1071.000000, Avg Monthly Reward : 399.615921, Avg Episode Length : 244.103158, Avg Episode Run Time : 722.952368\n",
      "Episode : 7700, Last Episode Reward = 724.000000, Avg Monthly Reward : 404.988571, Avg Episode Length : 244.357662, Avg Episode Run Time : 722.940260\n",
      "Episode : 7800, Last Episode Reward = 938.000000, Avg Monthly Reward : 408.890000, Avg Episode Length : 244.553846, Avg Episode Run Time : 722.947308\n",
      "Episode : 7900, Last Episode Reward = -1782.000000, Avg Monthly Reward : 402.072152, Avg Episode Length : 245.034684, Avg Episode Run Time : 722.943797\n",
      "Episode : 8000, Last Episode Reward = -866.000000, Avg Monthly Reward : 386.842000, Avg Episode Length : 244.284500, Avg Episode Run Time : 722.955250\n",
      "Episode : 8100, Last Episode Reward = -692.000000, Avg Monthly Reward : 372.904938, Avg Episode Length : 243.384198, Avg Episode Run Time : 722.966790\n",
      "Episode : 8200, Last Episode Reward = -729.000000, Avg Monthly Reward : 359.205732, Avg Episode Length : 242.540000, Avg Episode Run Time : 722.980244\n",
      "Episode : 8300, Last Episode Reward = -891.000000, Avg Monthly Reward : 345.719277, Avg Episode Length : 241.702169, Avg Episode Run Time : 722.991687\n",
      "Episode : 8400, Last Episode Reward = -718.000000, Avg Monthly Reward : 332.808333, Avg Episode Length : 240.867262, Avg Episode Run Time : 722.999762\n",
      "Episode : 8500, Last Episode Reward = -821.000000, Avg Monthly Reward : 320.040000, Avg Episode Length : 240.070824, Avg Episode Run Time : 723.011294\n",
      "Episode : 8600, Last Episode Reward = -797.000000, Avg Monthly Reward : 307.500233, Avg Episode Length : 239.308256, Avg Episode Run Time : 723.021163\n",
      "Episode : 8700, Last Episode Reward = -662.000000, Avg Monthly Reward : 295.384023, Avg Episode Length : 238.536667, Avg Episode Run Time : 723.029195\n",
      "Episode : 8800, Last Episode Reward = -811.000000, Avg Monthly Reward : 283.452614, Avg Episode Length : 237.798977, Avg Episode Run Time : 723.046364\n",
      "Episode : 8900, Last Episode Reward = -770.000000, Avg Monthly Reward : 271.846067, Avg Episode Length : 237.088764, Avg Episode Run Time : 723.057865\n",
      "Episode : 9000, Last Episode Reward = -550.000000, Avg Monthly Reward : 260.521778, Avg Episode Length : 236.390444, Avg Episode Run Time : 723.069444\n",
      "Episode : 9100, Last Episode Reward = -783.000000, Avg Monthly Reward : 249.469560, Avg Episode Length : 235.705275, Avg Episode Run Time : 723.079890\n",
      "Episode : 9200, Last Episode Reward = -816.000000, Avg Monthly Reward : 238.611739, Avg Episode Length : 235.037609, Avg Episode Run Time : 723.087935\n",
      "Episode : 9300, Last Episode Reward = -783.000000, Avg Monthly Reward : 227.937419, Avg Episode Length : 234.386989, Avg Episode Run Time : 723.103871\n",
      "Episode : 9400, Last Episode Reward = -870.000000, Avg Monthly Reward : 217.570213, Avg Episode Length : 233.754894, Avg Episode Run Time : 723.119362\n",
      "Episode : 9500, Last Episode Reward = -827.000000, Avg Monthly Reward : 207.303158, Avg Episode Length : 233.102421, Avg Episode Run Time : 723.132000\n",
      "Episode : 9600, Last Episode Reward = -887.000000, Avg Monthly Reward : 197.321458, Avg Episode Length : 232.479792, Avg Episode Run Time : 723.144896\n",
      "Episode : 9700, Last Episode Reward = -803.000000, Avg Monthly Reward : 187.435258, Avg Episode Length : 231.864227, Avg Episode Run Time : 723.153608\n",
      "Episode : 9800, Last Episode Reward = -578.000000, Avg Monthly Reward : 177.700816, Avg Episode Length : 231.294184, Avg Episode Run Time : 723.164796\n",
      "Episode : 9900, Last Episode Reward = -698.000000, Avg Monthly Reward : 168.291111, Avg Episode Length : 230.719293, Avg Episode Run Time : 723.179596\n",
      "Episode : 10000, Last Episode Reward = -594.000000, Avg Monthly Reward : 159.095900, Avg Episode Length : 230.153100, Avg Episode Run Time : 723.191000\n",
      "Total Time consumption : 33437 secs\n"
     ]
    }
   ],
   "source": [
    "Episodes = 10000\n",
    "model_save_episode_trigger = 1000\n",
    "states_track_save_episode_trigger = 1000\n",
    "status_print_episode_trigger = 100\n",
    "\n",
    "driver2 = DQNAgent(state_size=36,\n",
    "                   action_size=21,\n",
    "                   learning_rate=0.01,\n",
    "                   discount_factor=0.85,\n",
    "                   epsilon_max=1.0,\n",
    "                   epsilon_min=0.0,\n",
    "                   batch_size=32,\n",
    "                   memory_length=2000,\n",
    "                   learn_nn_epochs=3,\n",
    "                   debug_msg = False,\n",
    "                   driver_psychology = \"Adamant\") ### ADAMANT DRIVER ###\n",
    "\n",
    "driver2.model_dir=new_model_dir\n",
    "\n",
    "month_end_cost_time = 30 * 24\n",
    "\n",
    "all_episode_rewards = []\n",
    "all_episode_length = []\n",
    "all_episode_run_time = []\n",
    "start_time = datetime.now()\n",
    "\n",
    "for episode in range(Episodes):\n",
    "    \n",
    "    # 1. Pick epsilon-greedy action from possible actions for the current state\n",
    "    # 2. Evaluate your reward and next state\n",
    "    # 3. Append the experience to the memory\n",
    "    # 4. Train the model by calling function agent.train_model\n",
    "    # 5. Keep a track of rewards, Q-values, loss\n",
    "    \n",
    "    current_state = driver2.env.init_get_state()\n",
    "    month_end_terminal = False    \n",
    "    total_run_time = 0\n",
    "    total_reward = 0\n",
    "    episode_length = 0\n",
    "    while not month_end_terminal:\n",
    "        #print(\"TESTING : Current State = %s\" %(str(current_state)))\n",
    "        current_action = driver2.get_action(current_state,episode)\n",
    "        next_state, reward, cost_time = driver2.env.step(current_state,current_action)\n",
    "        \n",
    "        total_run_time += cost_time\n",
    "        total_reward += reward\n",
    "        \n",
    "        if total_run_time >= month_end_cost_time:\n",
    "            month_end_terminal = True\n",
    "        \n",
    "        driver2.append_sample(current_state,current_action,reward,next_state)\n",
    "        driver2.train_model()\n",
    "        \n",
    "        current_state = next_state\n",
    "        episode_length += 1\n",
    "    \n",
    "    all_episode_length.append(episode_length)\n",
    "    all_episode_rewards.append(total_reward)\n",
    "    all_episode_run_time.append(total_run_time)\n",
    "    update_states_track(driver2)\n",
    "    \n",
    "    if (episode + 1) % model_save_episode_trigger == 0:\n",
    "        driver2.save()\n",
    "        \n",
    "    if (episode + 1) % states_track_save_episode_trigger == 0:\n",
    "        save_obj(States_Track,driver2.model_dir + \"/\" + \"States_Track_\" + datetime.now().strftime(\"%Y%m%d_%H%M%S\") + \".pickle\")\n",
    "        \n",
    "    if (episode + 1) % status_print_episode_trigger == 0:\n",
    "        print(\"Episode : %d, Last Episode Reward = %f, Avg Monthly Reward : %f, Avg Episode Length : %f, Avg Episode Run Time : %f\" %(episode+1,total_reward,np.mean(all_episode_rewards),np.mean(all_episode_length),np.mean(all_episode_run_time)))\n",
    "\n",
    "end_time = datetime.now()\n",
    "print(\"Total Time consumption : %d secs\" %((end_time-start_time).seconds))"
   ]
  },
  {
   "cell_type": "markdown",
   "metadata": {
    "colab_type": "text",
    "id": "ikklABxai7nL"
   },
   "source": [
    "#### Checking number of exploitations and explorations"
   ]
  },
  {
   "cell_type": "code",
   "execution_count": 0,
   "metadata": {
    "colab": {
     "base_uri": "https://localhost:8080/",
     "height": 51
    },
    "colab_type": "code",
    "executionInfo": {
     "elapsed": 565,
     "status": "ok",
     "timestamp": 1550968504592,
     "user": {
      "displayName": "Anugraha Sinha",
      "photoUrl": "https://lh5.googleusercontent.com/-ufhz7WuOKIU/AAAAAAAAAAI/AAAAAAAAEhY/_WMVLnsy2fQ/s64/photo.jpg",
      "userId": "05693439876093633965"
     },
     "user_tz": -540
    },
    "id": "f35w6TRALT0A",
    "outputId": "2fe28383-8de0-4e9c-f04c-231b3f02c853"
   },
   "outputs": [
    {
     "name": "stdout",
     "output_type": "stream",
     "text": [
      "Number of exploitations :  2094251 \n",
      "Number of explorations :  207280\n"
     ]
    }
   ],
   "source": [
    "print(\"Number of exploitations : \",n_exploitation,\"\\nNumber of explorations : \",n_exploration)"
   ]
  },
  {
   "cell_type": "markdown",
   "metadata": {
    "colab_type": "text",
    "id": "O5fA5xOdjMOJ"
   },
   "source": [
    "### Visualizing the average monthly reward (averaged after every 100 episodes) ###"
   ]
  },
  {
   "cell_type": "code",
   "execution_count": 0,
   "metadata": {
    "colab": {
     "base_uri": "https://localhost:8080/",
     "height": 369
    },
    "colab_type": "code",
    "executionInfo": {
     "elapsed": 1108,
     "status": "ok",
     "timestamp": 1550968512212,
     "user": {
      "displayName": "Anugraha Sinha",
      "photoUrl": "https://lh5.googleusercontent.com/-ufhz7WuOKIU/AAAAAAAAAAI/AAAAAAAAEhY/_WMVLnsy2fQ/s64/photo.jpg",
      "userId": "05693439876093633965"
     },
     "user_tz": -540
    },
    "id": "ZuGAKRx1jNPR",
    "outputId": "e372ebb7-894d-4616-d123-0c313bcce393"
   },
   "outputs": [
    {
     "data": {
      "image/png": "[encoded data removed]",
      "text/plain": [
       "<Figure size 1440x360 with 1 Axes>"
      ]
     },
     "metadata": {
      "tags": []
     },
     "output_type": "display_data"
    }
   ],
   "source": [
    "avg_as_model_learnt = [np.mean(all_episode_rewards[0:x+99]) for x in range(0,10000,100)]\n",
    "plt.figure(figsize=(20,5))\n",
    "plt.plot(range(0,len(avg_as_model_learnt)),avg_as_model_learnt)\n",
    "plt.xlabel(\"Number of hunderd(s) episodes (x 100)\")\n",
    "plt.ylabel(\"Average Reward after episodes\")\n",
    "plt.title(\"Reinforced learning Cab Driver (Adamant) - Reward Graph as NN model learns\")\n",
    "plt.xticks(range(0,100,5))\n",
    "plt.show()"
   ]
  },
  {
   "cell_type": "markdown",
   "metadata": {
    "colab_type": "text",
    "id": "KS8ntFsSjTxw"
   },
   "source": [
    "#### Conclusion ####\n",
    "We can see that with **Driver Psychology : ADAMANT**, the average monthly reward increase, and reach a maximum value after certain episodes. However, the maximum reached is **NOT as high as that of Driver Psychology : Enthusiastic**.\n",
    "\n",
    "Therefore, if the driver is becomes **STUBBORN** and explicitly wants to select chosen rides as per earlier learning, and does not follow the best possible action from poission distributed requests, then his average monthly rewards **WONT** be very high."
   ]
  },
  {
   "cell_type": "code",
   "execution_count": 0,
   "metadata": {
    "colab": {},
    "colab_type": "code",
    "id": "QSrUDtkOjVXx"
   },
   "outputs": [],
   "source": [
    "save_obj(all_episode_rewards,driver2.model_dir + \"/\" + \"all_episode_reward_adamant.pickle\")\n",
    "save_obj(all_episode_length,driver2.model_dir + \"/\" + \"all_episode_length_adamant.pickle\")\n",
    "save_obj(all_episode_run_time,driver2.model_dir + \"/\" + \"all_episode_run_time_adamant.pickle\")"
   ]
  },
  {
   "cell_type": "markdown",
   "metadata": {
    "colab_type": "text",
    "id": "w3NjqNZKjgVl"
   },
   "source": [
    "### Tracking Convergence\n",
    "Lets check which state-action pairs we can plot"
   ]
  },
  {
   "cell_type": "code",
   "execution_count": 0,
   "metadata": {
    "colab": {
     "base_uri": "https://localhost:8080/",
     "height": 204
    },
    "colab_type": "code",
    "executionInfo": {
     "elapsed": 438,
     "status": "ok",
     "timestamp": 1550968521965,
     "user": {
      "displayName": "Anugraha Sinha",
      "photoUrl": "https://lh5.googleusercontent.com/-ufhz7WuOKIU/AAAAAAAAAAI/AAAAAAAAEhY/_WMVLnsy2fQ/s64/photo.jpg",
      "userId": "05693439876093633965"
     },
     "user_tz": -540
    },
    "id": "0kJJLv1HjhUB",
    "outputId": "94c04aa0-fd59-4539-8dd9-298fd369d297"
   },
   "outputs": [
    {
     "name": "stdout",
     "output_type": "stream",
     "text": [
      "State Action Pairs which can be seen for convergence:\n",
      "(1, 0, 0) (1, 2) Number of non 0.0 values :  7910\n",
      "(1, 0, 0) (0, 0) Number of non 0.0 values :  7908\n",
      "(2, 2, 2) (2, 3) Number of non 0.0 values :  7910\n",
      "(2, 2, 2) (0, 0) Number of non 0.0 values :  7908\n",
      "(3, 3, 3) (3, 4) Number of non 0.0 values :  0\n",
      "(3, 3, 3) (0, 0) Number of non 0.0 values :  7908\n",
      "(4, 4, 4) (4, 5) Number of non 0.0 values :  7909\n",
      "(4, 4, 4) (0, 0) Number of non 0.0 values :  7908\n",
      "(5, 5, 5) (5, 1) Number of non 0.0 values :  0\n",
      "(5, 5, 5) (0, 0) Number of non 0.0 values :  7908\n"
     ]
    }
   ],
   "source": [
    "print(\"State Action Pairs which can be seen for convergence:\")\n",
    "for s_key in States_Track.keys():\n",
    "  for a_key in States_Track[s_key].keys():\n",
    "    print(s_key,a_key,\"Number of non 0.0 values : \",len(np.where(np.array(States_Track[s_key][a_key]) != 0.0)[0]))"
   ]
  },
  {
   "cell_type": "markdown",
   "metadata": {
    "colab_type": "text",
    "id": "zeZaliE9jlYO"
   },
   "source": [
    "#### Plotting the state-actions where data is available ####"
   ]
  },
  {
   "cell_type": "code",
   "execution_count": 0,
   "metadata": {
    "colab": {
     "base_uri": "https://localhost:8080/",
     "height": 640
    },
    "colab_type": "code",
    "executionInfo": {
     "elapsed": 1843,
     "status": "ok",
     "timestamp": 1550968528546,
     "user": {
      "displayName": "Anugraha Sinha",
      "photoUrl": "https://lh5.googleusercontent.com/-ufhz7WuOKIU/AAAAAAAAAAI/AAAAAAAAEhY/_WMVLnsy2fQ/s64/photo.jpg",
      "userId": "05693439876093633965"
     },
     "user_tz": -540
    },
    "id": "h1rJVbhKjq4L",
    "outputId": "52bd768b-1ef6-4958-f91b-f9dc509e12fc"
   },
   "outputs": [
    {
     "data": {
      "image/png": "[encoded data removed]",
      "text/plain": [
       "<Figure size 1440x720 with 5 Axes>"
      ]
     },
     "metadata": {
      "tags": []
     },
     "output_type": "display_data"
    }
   ],
   "source": [
    "plt_d = [((1,0,0),(1,2)),((2,2,2),(2,3)),((3,3,3),(3,4)),((4,4,4),(4,5)),((5,5,5),(5,1))]\n",
    "\n",
    "plt.figure(figsize=(20,10))\n",
    "\n",
    "plt.subplot(231)\n",
    "d = States_Track[plt_d[0][0]][plt_d[0][1]]\n",
    "plt.plot(range(0,len(d)),d)\n",
    "plt.xlabel(\"Iterations\")\n",
    "plt.ylabel(\"Q Value\")\n",
    "plt.title(\"State : \" + str(plt_d[0][0]) + \" & Action : \" + str(plt_d[0][1]))\n",
    "plt.legend(\"Q_value\")\n",
    "\n",
    "plt.subplot(232)\n",
    "d = States_Track[plt_d[1][0]][plt_d[1][1]]\n",
    "plt.plot(range(0,len(d)),d)\n",
    "plt.xlabel(\"Iterations\")\n",
    "plt.ylabel(\"Q Value\")\n",
    "plt.title(\"State : \" + str(plt_d[1][0]) + \" & Action : \" + str(plt_d[1][1]))\n",
    "plt.legend(\"Q_value\")\n",
    "\n",
    "plt.subplot(233)\n",
    "d = States_Track[plt_d[2][0]][plt_d[2][1]]\n",
    "plt.plot(range(0,len(d)),d)\n",
    "plt.xlabel(\"Iterations\")\n",
    "plt.ylabel(\"Q Value\")\n",
    "plt.title(\"State : \" + str(plt_d[2][0]) + \" & Action : \" + str(plt_d[2][1]))\n",
    "plt.legend(\"Q_value\")\n",
    "\n",
    "plt.subplot(234)\n",
    "d = States_Track[plt_d[3][0]][plt_d[3][1]]\n",
    "plt.plot(range(0,len(d)),d)\n",
    "plt.xlabel(\"Iterations\")\n",
    "plt.ylabel(\"Q Value\")\n",
    "plt.title(\"State : \" + str(plt_d[3][0]) + \" & Action : \" + str(plt_d[3][1]))\n",
    "plt.legend(\"Q_value\")\n",
    "\n",
    "plt.subplot(235)\n",
    "d = States_Track[plt_d[4][0]][plt_d[4][1]]\n",
    "plt.plot(range(0,len(d)),d)\n",
    "plt.xlabel(\"Iterations\")\n",
    "plt.ylabel(\"Q Value\")\n",
    "plt.title(\"State : \" + str(plt_d[4][0]) + \" & Action : \" + str(plt_d[4][1]))\n",
    "plt.legend(\"Q_value\")\n",
    "\n",
    "plt.subplots_adjust(hspace=0.6)\n",
    "plt.show()"
   ]
  },
  {
   "cell_type": "markdown",
   "metadata": {
    "colab_type": "text",
    "id": "aOh2IwQcjyTS"
   },
   "source": [
    "### Conclusion : Driver Psychology : Adamant ###\n",
    "Although, the Q_values seems to be convered, however, the average monthly reward are **NOT AS HIGH AS DRIVER PSYCHOLOGY : ENTHUSIASTIC**. As stated earlier, Adamant psychology by drivers should be avoided, and best possible selection should be chosen from the actions proposed by the Q-Network model from among the poisson distributed requests coming to the driver.\n",
    "\n"
   ]
  },
  {
   "cell_type": "markdown",
   "metadata": {},
   "source": [
    "### Experiments with different hyper parameters ###\n",
    "\n",
    "| Driver Psychology | Total Episodes | Learning Rate | Discount Factor | Batch Size | Epochs | Avg Monthly Reward (@ after all episode execution | Model Learning Time (secs) | Remark |\n",
    "| --- | --- | --- | --- | --- | --- | --- | --- | --- | \n",
    "| Enthusiastic | 10000 | 0.09 | 0.85 | 128 | 3 | 221.8359 | 22976 (with GPU) | Not optimum | \n",
    "| Adamant | 10000 | 0.09 | 0.85 | 128 | 3 | -648.688 | 26676 (with GPU) | Not Optimum | \n",
    "| Enthusiastic | 10000 | 0.009 | 0.7 | 64 | 3 | 1307.1929 | 17123 (with GPU) | Good BUT Q_value convergence did not happen in 10000 episodes | \n",
    "| Adamant | 10000 | 0.009 | 0.7 | 64 | 3 | 347.663 | 17123 (with GPU) | Not Optimum | \n",
    "| Enthusiastic | 10000 | 0.009 | 0.7 | 128 | 3 | 1512.3567 | 17264 (with GPU) | Good BUT Q_value convergence did not happen for some state/action pair in 10000 episodes | \n",
    "| Adamant | 10000 | 0.009 | 0.85 | 128 | 3 | 300.3085 | 25003 (with GPU) | Not Optimum |\n",
    "| Enthusiastic | 10000 | 0.005 | 0.5 | 128 | 5 | 1225.5205 | 29400 (with GPU) | Good BUT Q_value convergence did not happen for some state/action pair in 10000 episodes | \n",
    "| Adamant | 10000 | 0.005 | 0.5 | 128 | 5 | 356.74 | 41337 (with GPU) | Not Optimum |\n",
    "\n"
   ]
  },
  {
   "cell_type": "markdown",
   "metadata": {
    "colab_type": "text",
    "id": "QoaEGSKlj6FJ"
   },
   "source": [
    "## FINAL CONCLUSION OF CASE STUDY ##\n",
    "### What we saw?###\n",
    "-  There are 2 kinds of virtual drivers that we modelled.\n",
    "  - **Driver Psychology \"ENTHUSIASTIC\"**\n",
    "    - Such a driver chooses the best possible action from the requests available to him based on the q_values of \"THOSE SPECIFIC\" requests.\n",
    "    - Such a driver is seen to have much greater monthly returns (REWARDS) and if it follows the Q-Network predicted suggestions he can have more profit over the month\n",
    "    - We can also try modelling such a strategy using a different NN architecture, learning rate and discount factors for increased rewards (Work for Future)\n",
    "  - **Driver Psychology \"ADAMANT\"**\n",
    "    - Such a driver wishes to choose only those actions which he/she (his/her model) predicts to be the best. If the requests coming are not inline with his \"wishes\" he drops the request and prefers to go \"OFFLINE\".\n",
    "    - Such a driver is seen to have reduced monthly returns (REWARDS) in comparison with Driver Enthusiastic.\n",
    "    \n",
    "### What is the learning?###\n",
    "- Deep Reinforced Learning is capable of building an apt model which could suggest best possible actions for driver to maximise \"LONG TERM PROFITS\" as shown in the graphs above.\n",
    "- By further working on the NN model architecture / learning rate / discount factors, we will be able to further maximize the monthly returns to drivers and therefore assisting them to having greater profits. Along with ensuring Q_value convergence.\n",
    "- We can also see from the details mentioned above, that a DRIVER who follows the recommendation from Q-Network is able to go for longer (more profitable) trips which enhance the chances of maximizing the monthly returns."
   ]
  }
 ],
 "metadata": {
  "colab": {
   "collapsed_sections": [],
   "name": "DQN_Agent_Arch2_asinha_ver5.ipynb",
   "provenance": [],
   "toc_visible": true,
   "version": "0.3.2"
  },
  "kernelspec": {
   "display_name": "Python 3",
   "language": "python",
   "name": "python3"
  },
  "language_info": {
   "codemirror_mode": {
    "name": "ipython",
    "version": 3
   },
   "file_extension": ".py",
   "mimetype": "text/x-python",
   "name": "python",
   "nbconvert_exporter": "python",
   "pygments_lexer": "ipython3",
   "version": "3.6.0"
  }
 },
 "nbformat": 4,
 "nbformat_minor": 1
}
